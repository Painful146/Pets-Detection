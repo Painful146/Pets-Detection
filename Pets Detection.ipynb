{
 "cells": [
  {
   "cell_type": "code",
   "execution_count": null,
   "id": "f29b47c2-ae46-4bc4-8e82-663b29e770cd",
   "metadata": {},
   "outputs": [],
   "source": [
    "import cv2\n",
    "\n",
    "catCascade = cv2.CascadeClassifier(\"C:\\\\Users\\\\User\\\\Documents\\\\Py310\\\\CV Project\\\\cat.xml\")\n",
    "faceCascade = cv2.CascadeClassifier(\"C:\\\\Users\\\\User\\\\Documents\\\\Py310\\\\CV Project\\\\human.xml\")\n",
    "dogCascade = cv2.CascadeClassifier(\"C:\\\\Users\\\\User\\\\Documents\\\\Py310\\\\CV Project\\\\dog.xml\")\n",
    "\n",
    "cap = cv2.VideoCapture(0)\n",
    "\n",
    "while True:\n",
    "    ret, frame = cap.read()\n",
    "\n",
    "    gray = cv2.cvtColor(frame, cv2.COLOR_BGR2GRAY)\n",
    "\n",
    "    cat_faces = catCascade.detectMultiScale(\n",
    "        gray,\n",
    "        scaleFactor=1.3,\n",
    "        minNeighbors=18,\n",
    "        minSize=(75, 75)\n",
    "    )\n",
    "\n",
    "    for (x, y, w, h) in cat_faces:\n",
    "        cv2.rectangle(frame, (x, y), (x+w, y+h), (0, 255, 0), 2)\n",
    "        cv2.putText(frame, 'Cat', (x, y - 10), cv2.FONT_HERSHEY_SIMPLEX, 0.9, (0, 255, 0), 2)\n",
    "\n",
    "    human_faces = faceCascade.detectMultiScale(\n",
    "        gray,\n",
    "        scaleFactor=1.03,\n",
    "        minNeighbors=10,\n",
    "        minSize=(75, 75)\n",
    "    )\n",
    "\n",
    "    for (x, y, w, h) in human_faces:\n",
    "        cv2.rectangle(frame, (x, y), (x+w, y+h), (255, 0, 0), 2)\n",
    "        cv2.putText(frame, 'Human', (x, y - 10), cv2.FONT_HERSHEY_SIMPLEX, 0.9, (255, 0, 0), 2)\n",
    "\n",
    "    dog_faces = dogCascade.detectMultiScale(\n",
    "        gray,\n",
    "        scaleFactor=1.2,\n",
    "        minNeighbors=10,\n",
    "        minSize=(75, 75)\n",
    "    )\n",
    "\n",
    "    for (x, y, w, h) in dog_faces:\n",
    "        cv2.rectangle(frame, (x, y), (x+w, y+h), (0, 0, 255), 2)\n",
    "        cv2.putText(frame, 'Dog', (x, y - 10), cv2.FONT_HERSHEY_SIMPLEX, 0.9, (0, 0, 255), 2)\n",
    "\n",
    "    cv2.imshow('Webcam Face Detection', frame)\n",
    "\n",
    "    if cv2.waitKey(1) & 0xFF == ord('q'):\n",
    "        break\n",
    "\n",
    "cap.release()\n",
    "cv2.destroyAllWindows()\n"
   ]
  }
 ],
 "metadata": {
  "kernelspec": {
   "display_name": "Python 3 (ipykernel)",
   "language": "python",
   "name": "python3"
  },
  "language_info": {
   "codemirror_mode": {
    "name": "ipython",
    "version": 3
   },
   "file_extension": ".py",
   "mimetype": "text/x-python",
   "name": "python",
   "nbconvert_exporter": "python",
   "pygments_lexer": "ipython3",
   "version": "3.10.13"
  }
 },
 "nbformat": 4,
 "nbformat_minor": 5
}
